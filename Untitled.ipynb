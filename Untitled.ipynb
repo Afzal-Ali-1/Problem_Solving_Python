{
 "cells": [
  {
   "cell_type": "code",
   "execution_count": 1,
   "metadata": {},
   "outputs": [],
   "source": [
    "class Vector():\n",
    "    def __init__(self,x,y):\n",
    "        self.x=x\n",
    "        self.y=y\n",
    "    def __repr__(self):\n",
    "        string=f\"vector({self.x},{self.y})\"\n",
    "        return string\n",
    "    def __add__(self,other):\n",
    "        \n",
    "        return Vector(self.x+other.x,self.y+other.y)\n",
    "    def __sub__(self,other):\n",
    "        x=self.x-other.x\n",
    "        y=self.y-other.y\n",
    "        return Vector(x,y)"
   ]
  },
  {
   "cell_type": "code",
   "execution_count": null,
   "metadata": {},
   "outputs": [],
   "source": []
  },
  {
   "cell_type": "code",
   "execution_count": 5,
   "metadata": {},
   "outputs": [
    {
     "name": "stdout",
     "output_type": "stream",
     "text": [
      "\n",
      "Enter The rounds which bewda going to take : 4\n",
      "\n",
      "e.g If you want to go North press 1\n",
      "\n",
      "If you want to know the current postion of bewda press 5\n",
      "input your direction\n",
      "1.North\n",
      "2.East\n",
      "3.South\n",
      "4.West : 1\n",
      "\n",
      "Enter the steps that much bewda want to move :10\n",
      "vector(0,10)\n",
      "\n",
      "e.g If you want to go North press 1\n",
      "\n",
      "If you want to know the current postion of bewda press 5\n",
      "input your direction\n",
      "1.North\n",
      "2.East\n",
      "3.South\n",
      "4.West : 3\n",
      "\n",
      "Enter the steps :5\n",
      "vector(0,5)\n",
      "\n",
      "e.g If you want to go North press 1\n",
      "\n",
      "If you want to know the current postion of bewda press 5\n",
      "input your direction\n",
      "1.North\n",
      "2.East\n",
      "3.South\n",
      "4.West : 2\n",
      "\n",
      "Enter the steps :8\n",
      "vector(8,5)\n",
      "\n",
      "e.g If you want to go North press 1\n",
      "\n",
      "If you want to know the current postion of bewda press 5\n",
      "input your direction\n",
      "1.North\n",
      "2.East\n",
      "3.South\n",
      "4.West : 4\n",
      "\n",
      "Enter the steps :4\n",
      "vector(4,5)\n",
      "vector(4,5)\n",
      "Current position of bewda is vector(4,5)\n"
     ]
    }
   ],
   "source": [
    "bewda_position=Vector(0,0)\n",
    "random_round=int(input(\"\\nEnter The rounds which bewda going to take : \"))\n",
    "for var in range(random_round):\n",
    "    print(\"\\ne.g If you want to go North press 1\")\n",
    "    print(\"\\nIf you want to know the current postion of bewda press 5\")\n",
    "    direction=int(input(\"input your direction\\n1.North\\n2.East\\n3.South\\n4.West : \"))\n",
    "    if direction==1:\n",
    "        steps=int(input(\"\\nEnter the steps that much bewda want to move :\"))\n",
    "        next_positon=Vector(0,steps)\n",
    "        bewda_position=bewda_position+next_positon\n",
    "        print(bewda_position)\n",
    "    elif direction==2:\n",
    "        steps=int(input(\"\\nEnter the steps :\"))\n",
    "        next_positon=Vector(steps,0)\n",
    "        bewda_position=bewda_position.__add__(next_positon)\n",
    "        print(bewda_position)\n",
    "    elif direction==3:\n",
    "        steps=int(input(\"\\nEnter the steps :\"))\n",
    "        next_positon=Vector(0,steps)\n",
    "        bewda_position=bewda_position.__sub__(next_positon)\n",
    "        print(bewda_position)\n",
    "    elif direction==4:\n",
    "        steps=int(input(\"\\nEnter the steps :\"))\n",
    "        next_positon=Vector(steps,0)\n",
    "        bewda_position=bewda_position.__sub__(next_positon)\n",
    "        print(bewda_position)\n",
    "        print(bewda_position)\n",
    "    elif direction==5:\n",
    "        print(bewda_position)\n",
    "    else:\n",
    "        print(\"Sahi input de tu bhi piya hua hai kya .\")\n",
    "else:\n",
    "    print(f\"Current position of bewda is {bewda_position}\")\n"
   ]
  },
  {
   "cell_type": "code",
   "execution_count": null,
   "metadata": {},
   "outputs": [],
   "source": [
    "from random import randint\n",
    "l=[randint(1,20) for var in range(10)]\n",
    "l2=[]\n",
    "for var in l:\n",
    "    c=var**2\n",
    "    l2.append(c)\n",
    "print(l2)"
   ]
  },
  {
   "cell_type": "code",
   "execution_count": null,
   "metadata": {},
   "outputs": [],
   "source": [
    "for var1,var2,var3 in [(1,2,3),(\"a\",\"b\",\"c\")]:\n",
    "    print(var1,var2,var3)"
   ]
  },
  {
   "cell_type": "code",
   "execution_count": null,
   "metadata": {},
   "outputs": [],
   "source": [
    "iter()"
   ]
  },
  {
   "cell_type": "code",
   "execution_count": null,
   "metadata": {},
   "outputs": [],
   "source": [
    "x=[ var for var in range(0,100,13)]\n",
    "print(x)"
   ]
  },
  {
   "cell_type": "code",
   "execution_count": null,
   "metadata": {},
   "outputs": [],
   "source": [
    "print(range.__doc__)"
   ]
  },
  {
   "cell_type": "code",
   "execution_count": null,
   "metadata": {},
   "outputs": [],
   "source": [
    "print(*)"
   ]
  },
  {
   "cell_type": "code",
   "execution_count": null,
   "metadata": {},
   "outputs": [],
   "source": [
    "try :\n",
    "    n=int(input(\"Enter the max value till which you want to print fibonacci .\"))\n",
    "    a,b=0,1\n",
    "    for var in range(n):\n",
    "        print(a)\n",
    "        a,b=b,a+b\n",
    "        if a>=n:\n",
    "            break\n",
    "except BaseException as arg:\n",
    "    print(\"Bhai error hai \",arg)\n",
    "finally:\n",
    "    print(\"Apna kaam finish\")\n",
    "    \n",
    "    \n",
    "    "
   ]
  },
  {
   "cell_type": "code",
   "execution_count": null,
   "metadata": {},
   "outputs": [],
   "source": [
    "a=5\n",
    "b=6\n",
    "a=a+b\n",
    "b=a-b\n",
    "a=a-b\n",
    "print(a,b)"
   ]
  },
  {
   "cell_type": "code",
   "execution_count": null,
   "metadata": {},
   "outputs": [],
   "source": [
    "a=1\n",
    "b=2\n",
    "a,b=b,a+b\n",
    "print(a,b)"
   ]
  },
  {
   "cell_type": "code",
   "execution_count": null,
   "metadata": {},
   "outputs": [],
   "source": [
    "a=[1,False,False]\n",
    "any(a)\n"
   ]
  },
  {
   "cell_type": "code",
   "execution_count": null,
   "metadata": {},
   "outputs": [],
   "source": [
    "r"
   ]
  },
  {
   "cell_type": "code",
   "execution_count": null,
   "metadata": {},
   "outputs": [],
   "source": [
    "class A:\n",
    "    def afzal(num):\n",
    "        print(num)"
   ]
  },
  {
   "cell_type": "code",
   "execution_count": null,
   "metadata": {},
   "outputs": [],
   "source": [
    "repr()"
   ]
  },
  {
   "cell_type": "code",
   "execution_count": null,
   "metadata": {},
   "outputs": [],
   "source": [
    "a=1,2"
   ]
  },
  {
   "cell_type": "code",
   "execution_count": null,
   "metadata": {},
   "outputs": [],
   "source": [
    "print(a)"
   ]
  },
  {
   "cell_type": "code",
   "execution_count": null,
   "metadata": {},
   "outputs": [],
   "source": [
    "def even(a):\n",
    "    if a %2==0:\n",
    "        print(\"even\")\n",
    "    else:\n",
    "        print(\"false\")"
   ]
  },
  {
   "cell_type": "code",
   "execution_count": null,
   "metadata": {},
   "outputs": [],
   "source": [
    "even(3212)"
   ]
  },
  {
   "cell_type": "code",
   "execution_count": null,
   "metadata": {},
   "outputs": [],
   "source": [
    "even_odd= lambda num : \"odd\" if num%2==0 else \"Even\""
   ]
  },
  {
   "cell_type": "code",
   "execution_count": null,
   "metadata": {},
   "outputs": [],
   "source": [
    "even_odd(12)"
   ]
  },
  {
   "cell_type": "code",
   "execution_count": null,
   "metadata": {},
   "outputs": [],
   "source": [
    "simple= lambda : \"hello world\""
   ]
  },
  {
   "cell_type": "code",
   "execution_count": null,
   "metadata": {},
   "outputs": [],
   "source": [
    "simple()"
   ]
  },
  {
   "cell_type": "code",
   "execution_count": null,
   "metadata": {},
   "outputs": [],
   "source": [
    "add= lambda x,y : x+y"
   ]
  },
  {
   "cell_type": "code",
   "execution_count": null,
   "metadata": {},
   "outputs": [],
   "source": [
    "add(4,4)"
   ]
  },
  {
   "cell_type": "code",
   "execution_count": null,
   "metadata": {},
   "outputs": [],
   "source": [
    "greater= lambda x,y,z : x if x>y and x>z  else y if y>z and y>x else z"
   ]
  },
  {
   "cell_type": "code",
   "execution_count": null,
   "metadata": {},
   "outputs": [],
   "source": [
    "greater(10,1,2)"
   ]
  },
  {
   "cell_type": "code",
   "execution_count": null,
   "metadata": {},
   "outputs": [],
   "source": [
    "prime=lambda x : True if any(map(lambda x : True if x else False,list(map(x//2,[ var for var in range(2,x-1)] )))) else False"
   ]
  },
  {
   "cell_type": "code",
   "execution_count": null,
   "metadata": {},
   "outputs": [],
   "source": [
    "prime(123)"
   ]
  },
  {
   "cell_type": "code",
   "execution_count": null,
   "metadata": {},
   "outputs": [],
   "source": [
    "z=[]\n",
    "matrix = lambda x,y : list(map())"
   ]
  },
  {
   "cell_type": "code",
   "execution_count": null,
   "metadata": {},
   "outputs": [],
   "source": [
    "from random import randint\n",
    "prime= lambda x ,check =2 : False if x % check==0 else True if  check == x //2+1 else prime(x,check+1)\n",
    "data =list(filter(prime,[ randint(1,20) for var in range(50)]))\n",
    "print(data)"
   ]
  },
  {
   "cell_type": "code",
   "execution_count": null,
   "metadata": {},
   "outputs": [],
   "source": [
    "d={\"1\":\"a\"}\n"
   ]
  },
  {
   "cell_type": "code",
   "execution_count": null,
   "metadata": {},
   "outputs": [],
   "source": [
    "help(list)"
   ]
  },
  {
   "cell_type": "code",
   "execution_count": null,
   "metadata": {},
   "outputs": [],
   "source": [
    "help(dict)"
   ]
  },
  {
   "cell_type": "code",
   "execution_count": null,
   "metadata": {},
   "outputs": [],
   "source": [
    "user={}\n",
    "user.setdefault('color','black')"
   ]
  },
  {
   "cell_type": "code",
   "execution_count": null,
   "metadata": {},
   "outputs": [],
   "source": [
    "print(user)"
   ]
  },
  {
   "cell_type": "code",
   "execution_count": null,
   "metadata": {},
   "outputs": [],
   "source": []
  },
  {
   "cell_type": "code",
   "execution_count": null,
   "metadata": {},
   "outputs": [],
   "source": [
    "a=gcd(108,22)"
   ]
  },
  {
   "cell_type": "code",
   "execution_count": null,
   "metadata": {},
   "outputs": [],
   "source": [
    "print(a)"
   ]
  },
  {
   "cell_type": "code",
   "execution_count": null,
   "metadata": {},
   "outputs": [],
   "source": []
  }
 ],
 "metadata": {
  "kernelspec": {
   "display_name": "Python 3",
   "language": "python",
   "name": "python3"
  },
  "language_info": {
   "codemirror_mode": {
    "name": "ipython",
    "version": 3
   },
   "file_extension": ".py",
   "mimetype": "text/x-python",
   "name": "python",
   "nbconvert_exporter": "python",
   "pygments_lexer": "ipython3",
   "version": "3.6.5"
  }
 },
 "nbformat": 4,
 "nbformat_minor": 2
}
