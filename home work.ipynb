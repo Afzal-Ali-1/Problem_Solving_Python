{
 "cells": [
  {
   "cell_type": "code",
   "execution_count": 1,
   "metadata": {},
   "outputs": [],
   "source": [
    "class Vector():\n",
    "    def __init__(self,x,y):\n",
    "        self.x=x\n",
    "        self.y=y\n",
    "    def __repr__(self):\n",
    "        string=f\"vector({self.x},{self.y})\"\n",
    "        return string\n",
    "    def __add__(self,other):\n",
    "        x=self.x+other.x\n",
    "        y=self.y+other.y\n",
    "        return Vector(x,y)\n",
    "    def __sub__(self,other):\n",
    "        x=self.x-other.x\n",
    "        y=self.y-other.y\n",
    "        return Vector(x,y)\n",
    "    def random_walk(self):\n",
    "        try:\n",
    "            self.bewda_position=self\n",
    "            random_round=int(input(\"\\nEnter The rounds which bewda going to take : \"))\n",
    "            for var in range(random_round):\n",
    "                print(\"\\ne.g If you want to go North press '1' \")\n",
    "                print(\"\\nIf you want to know the current postion of bewda press '5'\")\n",
    "                direction=int(input(\"input your direction\\n1.North\\n2.East\\n3.South\\n4.West : \"))\n",
    "                if direction==1:\n",
    "                    steps=int(input(\"\\nEnter the steps that much bewda want to move :\"))\n",
    "                    next_positon=Vector(0,steps)\n",
    "                    self.bewda_position=self.bewda_position.__add__(next_positon)\n",
    "                elif direction==2:\n",
    "                    steps=int(input(\"\\nEnter the steps :\"))\n",
    "                    next_positon=Vector(steps,0)\n",
    "                    self.bewda_position=self.bewda_position.__add__(next_positon)\n",
    "                elif direction==3:\n",
    "                    steps=int(input(\"\\nEnter the steps :\"))\n",
    "                    next_positon=Vector(0,steps)\n",
    "                    self.bewda_position=self.bewda_position.__sub__(next_positon)\n",
    "                elif direction==4:\n",
    "                    steps=int(input(\"\\nEnter the steps :\"))\n",
    "                    next_positon=Vector(steps,0)\n",
    "                    self.bewda_position=self.bewda_position.__sub__(next_positon)\n",
    "                elif direction==5:\n",
    "                    print(self.bewda_position)\n",
    "                else:\n",
    "                    print(\"Sahi input de tu bhi piya hua hai kya .\")\n",
    "            return print(f\"Current position of bewda is {self.bewda_position}\")\n",
    "        except ValueError as arg:\n",
    "            print(\"Error ! integer de be \",arg)"
   ]
  },
  {
   "cell_type": "code",
   "execution_count": 2,
   "metadata": {},
   "outputs": [
    {
     "name": "stdout",
     "output_type": "stream",
     "text": [
      "\n",
      "Enter The rounds which bewda going to take : 2\n",
      "\n",
      "e.g If you want to go North press '1' \n",
      "\n",
      "If you want to know the current postion of bewda press '5'\n",
      "input your direction\n",
      "1.North\n",
      "2.East\n",
      "3.South\n",
      "4.West : 1\n",
      "\n",
      "Enter the steps that much bewda want to move :5\n",
      "\n",
      "e.g If you want to go North press '1' \n",
      "\n",
      "If you want to know the current postion of bewda press '5'\n",
      "input your direction\n",
      "1.North\n",
      "2.East\n",
      "3.South\n",
      "4.West : 2\n",
      "\n",
      "Enter the steps :5\n",
      "Current position of bewda is vector(5,5)\n"
     ]
    }
   ],
   "source": [
    "bewda_position= Vector(0,0)\n",
    "bewda_position.random_walk()"
   ]
  },
  {
   "cell_type": "code",
   "execution_count": null,
   "metadata": {},
   "outputs": [],
   "source": []
  }
 ],
 "metadata": {
  "kernelspec": {
   "display_name": "Python 3",
   "language": "python",
   "name": "python3"
  },
  "language_info": {
   "codemirror_mode": {
    "name": "ipython",
    "version": 3
   },
   "file_extension": ".py",
   "mimetype": "text/x-python",
   "name": "python",
   "nbconvert_exporter": "python",
   "pygments_lexer": "ipython3",
   "version": "3.6.5"
  }
 },
 "nbformat": 4,
 "nbformat_minor": 2
}
